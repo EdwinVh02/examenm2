{
 "cells": [
  {
   "cell_type": "code",
   "execution_count": 7,
   "id": "e1093c60",
   "metadata": {},
   "outputs": [
    {
     "name": "stdout",
     "output_type": "stream",
     "text": [
      "Requirement already satisfied: pandas in c:\\users\\skril\\desktop\\escuela\\2. extracción de conocimientos de bd  dr\\examen\\venv\\lib\\site-packages (2.3.0)\n",
      "Requirement already satisfied: numpy in c:\\users\\skril\\desktop\\escuela\\2. extracción de conocimientos de bd  dr\\examen\\venv\\lib\\site-packages (2.3.1)\n",
      "Requirement already satisfied: scikit-learn in c:\\users\\skril\\desktop\\escuela\\2. extracción de conocimientos de bd  dr\\examen\\venv\\lib\\site-packages (1.7.0)\n",
      "Requirement already satisfied: matplotlib in c:\\users\\skril\\desktop\\escuela\\2. extracción de conocimientos de bd  dr\\examen\\venv\\lib\\site-packages (3.10.5)\n",
      "Requirement already satisfied: seaborn in c:\\users\\skril\\desktop\\escuela\\2. extracción de conocimientos de bd  dr\\examen\\venv\\lib\\site-packages (0.13.2)\n",
      "Requirement already satisfied: joblib in c:\\users\\skril\\desktop\\escuela\\2. extracción de conocimientos de bd  dr\\examen\\venv\\lib\\site-packages (1.5.1)\n",
      "Requirement already satisfied: python-dateutil>=2.8.2 in c:\\users\\skril\\desktop\\escuela\\2. extracción de conocimientos de bd  dr\\examen\\venv\\lib\\site-packages (from pandas) (2.9.0.post0)\n",
      "Requirement already satisfied: pytz>=2020.1 in c:\\users\\skril\\desktop\\escuela\\2. extracción de conocimientos de bd  dr\\examen\\venv\\lib\\site-packages (from pandas) (2025.2)\n",
      "Requirement already satisfied: tzdata>=2022.7 in c:\\users\\skril\\desktop\\escuela\\2. extracción de conocimientos de bd  dr\\examen\\venv\\lib\\site-packages (from pandas) (2025.2)\n",
      "Requirement already satisfied: scipy>=1.8.0 in c:\\users\\skril\\desktop\\escuela\\2. extracción de conocimientos de bd  dr\\examen\\venv\\lib\\site-packages (from scikit-learn) (1.16.0)\n",
      "Requirement already satisfied: threadpoolctl>=3.1.0 in c:\\users\\skril\\desktop\\escuela\\2. extracción de conocimientos de bd  dr\\examen\\venv\\lib\\site-packages (from scikit-learn) (3.6.0)\n",
      "Requirement already satisfied: contourpy>=1.0.1 in c:\\users\\skril\\desktop\\escuela\\2. extracción de conocimientos de bd  dr\\examen\\venv\\lib\\site-packages (from matplotlib) (1.3.3)\n",
      "Requirement already satisfied: cycler>=0.10 in c:\\users\\skril\\desktop\\escuela\\2. extracción de conocimientos de bd  dr\\examen\\venv\\lib\\site-packages (from matplotlib) (0.12.1)\n",
      "Requirement already satisfied: fonttools>=4.22.0 in c:\\users\\skril\\desktop\\escuela\\2. extracción de conocimientos de bd  dr\\examen\\venv\\lib\\site-packages (from matplotlib) (4.59.0)\n",
      "Requirement already satisfied: kiwisolver>=1.3.1 in c:\\users\\skril\\desktop\\escuela\\2. extracción de conocimientos de bd  dr\\examen\\venv\\lib\\site-packages (from matplotlib) (1.4.8)\n",
      "Requirement already satisfied: packaging>=20.0 in c:\\users\\skril\\desktop\\escuela\\2. extracción de conocimientos de bd  dr\\examen\\venv\\lib\\site-packages (from matplotlib) (25.0)\n",
      "Requirement already satisfied: pillow>=8 in c:\\users\\skril\\desktop\\escuela\\2. extracción de conocimientos de bd  dr\\examen\\venv\\lib\\site-packages (from matplotlib) (11.3.0)\n",
      "Requirement already satisfied: pyparsing>=2.3.1 in c:\\users\\skril\\desktop\\escuela\\2. extracción de conocimientos de bd  dr\\examen\\venv\\lib\\site-packages (from matplotlib) (3.2.3)\n",
      "Requirement already satisfied: six>=1.5 in c:\\users\\skril\\desktop\\escuela\\2. extracción de conocimientos de bd  dr\\examen\\venv\\lib\\site-packages (from python-dateutil>=2.8.2->pandas) (1.17.0)\n",
      "Note: you may need to restart the kernel to use updated packages.\n"
     ]
    },
    {
     "name": "stderr",
     "output_type": "stream",
     "text": [
      "\n",
      "[notice] A new release of pip is available: 25.1.1 -> 25.2\n",
      "[notice] To update, run: python.exe -m pip install --upgrade pip\n"
     ]
    }
   ],
   "source": [
    "pip install pandas numpy scikit-learn matplotlib seaborn joblib\n"
   ]
  },
  {
   "cell_type": "code",
   "execution_count": 8,
   "id": "a6286ee5-042c-4358-add3-d6460b6b3d5c",
   "metadata": {},
   "outputs": [
    {
     "name": "stdout",
     "output_type": "stream",
     "text": [
      "<class 'pandas.core.frame.DataFrame'>\n",
      "RangeIndex: 333 entries, 0 to 332\n",
      "Data columns (total 18 columns):\n",
      " #   Column   Non-Null Count  Dtype  \n",
      "---  ------   --------------  -----  \n",
      " 0   lstat    333 non-null    float64\n",
      " 1   ID       333 non-null    int64  \n",
      " 2   chas     333 non-null    int64  \n",
      " 3   rad      333 non-null    int64  \n",
      " 4   ptratio  333 non-null    float64\n",
      " 5   black    333 non-null    float64\n",
      " 6   tax      333 non-null    int64  \n",
      " 7   pool     0 non-null      float64\n",
      " 8   cat_dis  294 non-null    object \n",
      " 9   crim     307 non-null    float64\n",
      " 10  cat_age  333 non-null    object \n",
      " 11  medv     333 non-null    float64\n",
      " 12  zn       333 non-null    float64\n",
      " 13  nox      333 non-null    float64\n",
      " 14  rm       333 non-null    float64\n",
      " 15  indus    320 non-null    float64\n",
      " 16  palux    333 non-null    float64\n",
      " 17  garb     333 non-null    float64\n",
      "dtypes: float64(12), int64(4), object(2)\n",
      "memory usage: 47.0+ KB\n"
     ]
    }
   ],
   "source": [
    "import pandas as pd\n",
    "import numpy as np\n",
    "import matplotlib.pyplot as plt\n",
    "import seaborn as sns\n",
    "\n",
    "#cargar\n",
    "df = pd.read_csv(\"examen2024parc2.csv\")\n",
    "df.info()"
   ]
  },
  {
   "cell_type": "code",
   "execution_count": 9,
   "id": "4fd8b3c7-e106-44a6-bd49-3518f4ae2804",
   "metadata": {},
   "outputs": [
    {
     "data": {
      "application/vnd.microsoft.datawrangler.viewer.v0+json": {
       "columns": [
        {
         "name": "index",
         "rawType": "int64",
         "type": "integer"
        },
        {
         "name": "lstat",
         "rawType": "float64",
         "type": "float"
        },
        {
         "name": "ID",
         "rawType": "int64",
         "type": "integer"
        },
        {
         "name": "chas",
         "rawType": "int64",
         "type": "integer"
        },
        {
         "name": "rad",
         "rawType": "int64",
         "type": "integer"
        },
        {
         "name": "ptratio",
         "rawType": "float64",
         "type": "float"
        },
        {
         "name": "black",
         "rawType": "float64",
         "type": "float"
        },
        {
         "name": "tax",
         "rawType": "int64",
         "type": "integer"
        },
        {
         "name": "pool",
         "rawType": "float64",
         "type": "float"
        },
        {
         "name": "cat_dis",
         "rawType": "object",
         "type": "string"
        },
        {
         "name": "crim",
         "rawType": "float64",
         "type": "float"
        },
        {
         "name": "cat_age",
         "rawType": "object",
         "type": "string"
        },
        {
         "name": "medv",
         "rawType": "float64",
         "type": "float"
        },
        {
         "name": "zn",
         "rawType": "float64",
         "type": "float"
        },
        {
         "name": "nox",
         "rawType": "float64",
         "type": "float"
        },
        {
         "name": "rm",
         "rawType": "float64",
         "type": "float"
        },
        {
         "name": "indus",
         "rawType": "float64",
         "type": "float"
        },
        {
         "name": "palux",
         "rawType": "float64",
         "type": "float"
        },
        {
         "name": "garb",
         "rawType": "float64",
         "type": "float"
        }
       ],
       "ref": "df25abf7-8e82-465b-b89e-960f0ae6b64f",
       "rows": [
        [
         "0",
         "4.98",
         "1",
         "0",
         "1",
         "15.3",
         "396.9",
         "296",
         null,
         "Lejos",
         "0.00632",
         "Casi nueva",
         "24.0",
         "18.0",
         "0.538",
         "6.575",
         "2.31",
         "-4.898979485566356",
         "0.3745401188473625"
        ],
        [
         "1",
         "9.14",
         "2",
         "0",
         "2",
         "17.8",
         "396.9",
         "242",
         null,
         "Lejos",
         "0.02731",
         "Antigua",
         "21.6",
         "0.0",
         "0.469",
         "6.421",
         "7.07",
         "-4.6475800154489",
         "0.9507143064099162"
        ],
        [
         "2",
         "2.94",
         "4",
         "0",
         "3",
         "18.7",
         "394.63",
         "222",
         null,
         "Muy lejos",
         "0.03237",
         "Casi nueva",
         "33.4",
         "0.0",
         "0.458",
         "6.998",
         "2.18",
         "-5.779273310719955",
         "0.7319939418114051"
        ],
        [
         "3",
         "5.33",
         "5",
         "0",
         "3",
         "18.7",
         "396.9",
         "222",
         null,
         "Muy lejos",
         "0.06905",
         "Casi nueva",
         "36.2",
         "0.0",
         "0.458",
         "7.147",
         "2.18",
         "-6.016643582596529",
         "0.5986584841970366"
        ],
        [
         "4",
         "12.43",
         "7",
         "0",
         "5",
         "15.2",
         "395.6",
         "311",
         null,
         "Muy lejos",
         "0.08829",
         "Casi nueva",
         "22.9",
         "12.5",
         "0.524",
         "6.012",
         "7.87",
         "-4.78539444560216",
         "0.1560186404424365"
        ]
       ],
       "shape": {
        "columns": 18,
        "rows": 5
       }
      },
      "text/html": [
       "<div>\n",
       "<style scoped>\n",
       "    .dataframe tbody tr th:only-of-type {\n",
       "        vertical-align: middle;\n",
       "    }\n",
       "\n",
       "    .dataframe tbody tr th {\n",
       "        vertical-align: top;\n",
       "    }\n",
       "\n",
       "    .dataframe thead th {\n",
       "        text-align: right;\n",
       "    }\n",
       "</style>\n",
       "<table border=\"1\" class=\"dataframe\">\n",
       "  <thead>\n",
       "    <tr style=\"text-align: right;\">\n",
       "      <th></th>\n",
       "      <th>lstat</th>\n",
       "      <th>ID</th>\n",
       "      <th>chas</th>\n",
       "      <th>rad</th>\n",
       "      <th>ptratio</th>\n",
       "      <th>black</th>\n",
       "      <th>tax</th>\n",
       "      <th>pool</th>\n",
       "      <th>cat_dis</th>\n",
       "      <th>crim</th>\n",
       "      <th>cat_age</th>\n",
       "      <th>medv</th>\n",
       "      <th>zn</th>\n",
       "      <th>nox</th>\n",
       "      <th>rm</th>\n",
       "      <th>indus</th>\n",
       "      <th>palux</th>\n",
       "      <th>garb</th>\n",
       "    </tr>\n",
       "  </thead>\n",
       "  <tbody>\n",
       "    <tr>\n",
       "      <th>0</th>\n",
       "      <td>4.98</td>\n",
       "      <td>1</td>\n",
       "      <td>0</td>\n",
       "      <td>1</td>\n",
       "      <td>15.3</td>\n",
       "      <td>396.90</td>\n",
       "      <td>296</td>\n",
       "      <td>NaN</td>\n",
       "      <td>Lejos</td>\n",
       "      <td>0.00632</td>\n",
       "      <td>Casi nueva</td>\n",
       "      <td>24.0</td>\n",
       "      <td>18.0</td>\n",
       "      <td>0.538</td>\n",
       "      <td>6.575</td>\n",
       "      <td>2.31</td>\n",
       "      <td>-4.898979</td>\n",
       "      <td>0.374540</td>\n",
       "    </tr>\n",
       "    <tr>\n",
       "      <th>1</th>\n",
       "      <td>9.14</td>\n",
       "      <td>2</td>\n",
       "      <td>0</td>\n",
       "      <td>2</td>\n",
       "      <td>17.8</td>\n",
       "      <td>396.90</td>\n",
       "      <td>242</td>\n",
       "      <td>NaN</td>\n",
       "      <td>Lejos</td>\n",
       "      <td>0.02731</td>\n",
       "      <td>Antigua</td>\n",
       "      <td>21.6</td>\n",
       "      <td>0.0</td>\n",
       "      <td>0.469</td>\n",
       "      <td>6.421</td>\n",
       "      <td>7.07</td>\n",
       "      <td>-4.647580</td>\n",
       "      <td>0.950714</td>\n",
       "    </tr>\n",
       "    <tr>\n",
       "      <th>2</th>\n",
       "      <td>2.94</td>\n",
       "      <td>4</td>\n",
       "      <td>0</td>\n",
       "      <td>3</td>\n",
       "      <td>18.7</td>\n",
       "      <td>394.63</td>\n",
       "      <td>222</td>\n",
       "      <td>NaN</td>\n",
       "      <td>Muy lejos</td>\n",
       "      <td>0.03237</td>\n",
       "      <td>Casi nueva</td>\n",
       "      <td>33.4</td>\n",
       "      <td>0.0</td>\n",
       "      <td>0.458</td>\n",
       "      <td>6.998</td>\n",
       "      <td>2.18</td>\n",
       "      <td>-5.779273</td>\n",
       "      <td>0.731994</td>\n",
       "    </tr>\n",
       "    <tr>\n",
       "      <th>3</th>\n",
       "      <td>5.33</td>\n",
       "      <td>5</td>\n",
       "      <td>0</td>\n",
       "      <td>3</td>\n",
       "      <td>18.7</td>\n",
       "      <td>396.90</td>\n",
       "      <td>222</td>\n",
       "      <td>NaN</td>\n",
       "      <td>Muy lejos</td>\n",
       "      <td>0.06905</td>\n",
       "      <td>Casi nueva</td>\n",
       "      <td>36.2</td>\n",
       "      <td>0.0</td>\n",
       "      <td>0.458</td>\n",
       "      <td>7.147</td>\n",
       "      <td>2.18</td>\n",
       "      <td>-6.016644</td>\n",
       "      <td>0.598658</td>\n",
       "    </tr>\n",
       "    <tr>\n",
       "      <th>4</th>\n",
       "      <td>12.43</td>\n",
       "      <td>7</td>\n",
       "      <td>0</td>\n",
       "      <td>5</td>\n",
       "      <td>15.2</td>\n",
       "      <td>395.60</td>\n",
       "      <td>311</td>\n",
       "      <td>NaN</td>\n",
       "      <td>Muy lejos</td>\n",
       "      <td>0.08829</td>\n",
       "      <td>Casi nueva</td>\n",
       "      <td>22.9</td>\n",
       "      <td>12.5</td>\n",
       "      <td>0.524</td>\n",
       "      <td>6.012</td>\n",
       "      <td>7.87</td>\n",
       "      <td>-4.785394</td>\n",
       "      <td>0.156019</td>\n",
       "    </tr>\n",
       "  </tbody>\n",
       "</table>\n",
       "</div>"
      ],
      "text/plain": [
       "   lstat  ID  chas  rad  ptratio   black  tax  pool    cat_dis     crim  \\\n",
       "0   4.98   1     0    1     15.3  396.90  296   NaN      Lejos  0.00632   \n",
       "1   9.14   2     0    2     17.8  396.90  242   NaN      Lejos  0.02731   \n",
       "2   2.94   4     0    3     18.7  394.63  222   NaN  Muy lejos  0.03237   \n",
       "3   5.33   5     0    3     18.7  396.90  222   NaN  Muy lejos  0.06905   \n",
       "4  12.43   7     0    5     15.2  395.60  311   NaN  Muy lejos  0.08829   \n",
       "\n",
       "      cat_age  medv    zn    nox     rm  indus     palux      garb  \n",
       "0  Casi nueva  24.0  18.0  0.538  6.575   2.31 -4.898979  0.374540  \n",
       "1     Antigua  21.6   0.0  0.469  6.421   7.07 -4.647580  0.950714  \n",
       "2  Casi nueva  33.4   0.0  0.458  6.998   2.18 -5.779273  0.731994  \n",
       "3  Casi nueva  36.2   0.0  0.458  7.147   2.18 -6.016644  0.598658  \n",
       "4  Casi nueva  22.9  12.5  0.524  6.012   7.87 -4.785394  0.156019  "
      ]
     },
     "execution_count": 9,
     "metadata": {},
     "output_type": "execute_result"
    }
   ],
   "source": [
    "df.head()"
   ]
  },
  {
   "cell_type": "code",
   "execution_count": 10,
   "id": "2c5ecafc-3ebc-4ffe-bf60-b86780fe9919",
   "metadata": {},
   "outputs": [
    {
     "data": {
      "application/vnd.microsoft.datawrangler.viewer.v0+json": {
       "columns": [
        {
         "name": "index",
         "rawType": "int64",
         "type": "integer"
        },
        {
         "name": "lstat",
         "rawType": "float64",
         "type": "float"
        },
        {
         "name": "ID",
         "rawType": "int64",
         "type": "integer"
        },
        {
         "name": "chas",
         "rawType": "int64",
         "type": "integer"
        },
        {
         "name": "rad",
         "rawType": "int64",
         "type": "integer"
        },
        {
         "name": "ptratio",
         "rawType": "float64",
         "type": "float"
        },
        {
         "name": "black",
         "rawType": "float64",
         "type": "float"
        },
        {
         "name": "tax",
         "rawType": "int64",
         "type": "integer"
        },
        {
         "name": "pool",
         "rawType": "float64",
         "type": "float"
        },
        {
         "name": "cat_dis",
         "rawType": "object",
         "type": "string"
        },
        {
         "name": "crim",
         "rawType": "float64",
         "type": "float"
        },
        {
         "name": "cat_age",
         "rawType": "object",
         "type": "string"
        },
        {
         "name": "medv",
         "rawType": "float64",
         "type": "float"
        },
        {
         "name": "zn",
         "rawType": "float64",
         "type": "float"
        },
        {
         "name": "nox",
         "rawType": "float64",
         "type": "float"
        },
        {
         "name": "rm",
         "rawType": "float64",
         "type": "float"
        },
        {
         "name": "indus",
         "rawType": "float64",
         "type": "float"
        },
        {
         "name": "palux",
         "rawType": "float64",
         "type": "float"
        },
        {
         "name": "garb",
         "rawType": "float64",
         "type": "float"
        }
       ],
       "ref": "befdde1c-2d46-4eb6-8291-2d41d439d91e",
       "rows": [
        [
         "0",
         "4.98",
         "1",
         "0",
         "1",
         "15.3",
         "396.9",
         "296",
         null,
         "Lejos",
         "0.00632",
         "Casi nueva",
         "24.0",
         "18.0",
         "0.538",
         "6.575",
         "2.31",
         "-4.898979485566356",
         "0.3745401188473625"
        ],
        [
         "1",
         "9.14",
         "2",
         "0",
         "2",
         "17.8",
         "396.9",
         "242",
         null,
         "Lejos",
         "0.02731",
         "Antigua",
         "21.6",
         "0.0",
         "0.469",
         "6.421",
         "7.07",
         "-4.6475800154489",
         "0.9507143064099162"
        ],
        [
         "2",
         "2.94",
         "4",
         "0",
         "3",
         "18.7",
         "394.63",
         "222",
         null,
         "Muy lejos",
         "0.03237",
         "Casi nueva",
         "33.4",
         "0.0",
         "0.458",
         "6.998",
         "2.18",
         "-5.779273310719955",
         "0.7319939418114051"
        ],
        [
         "3",
         "5.33",
         "5",
         "0",
         "3",
         "18.7",
         "396.9",
         "222",
         null,
         "Muy lejos",
         "0.06905",
         "Casi nueva",
         "36.2",
         "0.0",
         "0.458",
         "7.147",
         "2.18",
         "-6.016643582596529",
         "0.5986584841970366"
        ],
        [
         "4",
         "12.43",
         "7",
         "0",
         "5",
         "15.2",
         "395.6",
         "311",
         null,
         "Muy lejos",
         "0.08829",
         "Casi nueva",
         "22.9",
         "12.5",
         "0.524",
         "6.012",
         "7.87",
         "-4.78539444560216",
         "0.1560186404424365"
        ]
       ],
       "shape": {
        "columns": 18,
        "rows": 5
       }
      },
      "text/html": [
       "<div>\n",
       "<style scoped>\n",
       "    .dataframe tbody tr th:only-of-type {\n",
       "        vertical-align: middle;\n",
       "    }\n",
       "\n",
       "    .dataframe tbody tr th {\n",
       "        vertical-align: top;\n",
       "    }\n",
       "\n",
       "    .dataframe thead th {\n",
       "        text-align: right;\n",
       "    }\n",
       "</style>\n",
       "<table border=\"1\" class=\"dataframe\">\n",
       "  <thead>\n",
       "    <tr style=\"text-align: right;\">\n",
       "      <th></th>\n",
       "      <th>lstat</th>\n",
       "      <th>ID</th>\n",
       "      <th>chas</th>\n",
       "      <th>rad</th>\n",
       "      <th>ptratio</th>\n",
       "      <th>black</th>\n",
       "      <th>tax</th>\n",
       "      <th>pool</th>\n",
       "      <th>cat_dis</th>\n",
       "      <th>crim</th>\n",
       "      <th>cat_age</th>\n",
       "      <th>medv</th>\n",
       "      <th>zn</th>\n",
       "      <th>nox</th>\n",
       "      <th>rm</th>\n",
       "      <th>indus</th>\n",
       "      <th>palux</th>\n",
       "      <th>garb</th>\n",
       "    </tr>\n",
       "  </thead>\n",
       "  <tbody>\n",
       "    <tr>\n",
       "      <th>0</th>\n",
       "      <td>4.98</td>\n",
       "      <td>1</td>\n",
       "      <td>0</td>\n",
       "      <td>1</td>\n",
       "      <td>15.3</td>\n",
       "      <td>396.90</td>\n",
       "      <td>296</td>\n",
       "      <td>NaN</td>\n",
       "      <td>Lejos</td>\n",
       "      <td>0.00632</td>\n",
       "      <td>Casi nueva</td>\n",
       "      <td>24.0</td>\n",
       "      <td>18.0</td>\n",
       "      <td>0.538</td>\n",
       "      <td>6.575</td>\n",
       "      <td>2.31</td>\n",
       "      <td>-4.898979</td>\n",
       "      <td>0.374540</td>\n",
       "    </tr>\n",
       "    <tr>\n",
       "      <th>1</th>\n",
       "      <td>9.14</td>\n",
       "      <td>2</td>\n",
       "      <td>0</td>\n",
       "      <td>2</td>\n",
       "      <td>17.8</td>\n",
       "      <td>396.90</td>\n",
       "      <td>242</td>\n",
       "      <td>NaN</td>\n",
       "      <td>Lejos</td>\n",
       "      <td>0.02731</td>\n",
       "      <td>Antigua</td>\n",
       "      <td>21.6</td>\n",
       "      <td>0.0</td>\n",
       "      <td>0.469</td>\n",
       "      <td>6.421</td>\n",
       "      <td>7.07</td>\n",
       "      <td>-4.647580</td>\n",
       "      <td>0.950714</td>\n",
       "    </tr>\n",
       "    <tr>\n",
       "      <th>2</th>\n",
       "      <td>2.94</td>\n",
       "      <td>4</td>\n",
       "      <td>0</td>\n",
       "      <td>3</td>\n",
       "      <td>18.7</td>\n",
       "      <td>394.63</td>\n",
       "      <td>222</td>\n",
       "      <td>NaN</td>\n",
       "      <td>Muy lejos</td>\n",
       "      <td>0.03237</td>\n",
       "      <td>Casi nueva</td>\n",
       "      <td>33.4</td>\n",
       "      <td>0.0</td>\n",
       "      <td>0.458</td>\n",
       "      <td>6.998</td>\n",
       "      <td>2.18</td>\n",
       "      <td>-5.779273</td>\n",
       "      <td>0.731994</td>\n",
       "    </tr>\n",
       "    <tr>\n",
       "      <th>3</th>\n",
       "      <td>5.33</td>\n",
       "      <td>5</td>\n",
       "      <td>0</td>\n",
       "      <td>3</td>\n",
       "      <td>18.7</td>\n",
       "      <td>396.90</td>\n",
       "      <td>222</td>\n",
       "      <td>NaN</td>\n",
       "      <td>Muy lejos</td>\n",
       "      <td>0.06905</td>\n",
       "      <td>Casi nueva</td>\n",
       "      <td>36.2</td>\n",
       "      <td>0.0</td>\n",
       "      <td>0.458</td>\n",
       "      <td>7.147</td>\n",
       "      <td>2.18</td>\n",
       "      <td>-6.016644</td>\n",
       "      <td>0.598658</td>\n",
       "    </tr>\n",
       "    <tr>\n",
       "      <th>4</th>\n",
       "      <td>12.43</td>\n",
       "      <td>7</td>\n",
       "      <td>0</td>\n",
       "      <td>5</td>\n",
       "      <td>15.2</td>\n",
       "      <td>395.60</td>\n",
       "      <td>311</td>\n",
       "      <td>NaN</td>\n",
       "      <td>Muy lejos</td>\n",
       "      <td>0.08829</td>\n",
       "      <td>Casi nueva</td>\n",
       "      <td>22.9</td>\n",
       "      <td>12.5</td>\n",
       "      <td>0.524</td>\n",
       "      <td>6.012</td>\n",
       "      <td>7.87</td>\n",
       "      <td>-4.785394</td>\n",
       "      <td>0.156019</td>\n",
       "    </tr>\n",
       "  </tbody>\n",
       "</table>\n",
       "</div>"
      ],
      "text/plain": [
       "   lstat  ID  chas  rad  ptratio   black  tax  pool    cat_dis     crim  \\\n",
       "0   4.98   1     0    1     15.3  396.90  296   NaN      Lejos  0.00632   \n",
       "1   9.14   2     0    2     17.8  396.90  242   NaN      Lejos  0.02731   \n",
       "2   2.94   4     0    3     18.7  394.63  222   NaN  Muy lejos  0.03237   \n",
       "3   5.33   5     0    3     18.7  396.90  222   NaN  Muy lejos  0.06905   \n",
       "4  12.43   7     0    5     15.2  395.60  311   NaN  Muy lejos  0.08829   \n",
       "\n",
       "      cat_age  medv    zn    nox     rm  indus     palux      garb  \n",
       "0  Casi nueva  24.0  18.0  0.538  6.575   2.31 -4.898979  0.374540  \n",
       "1     Antigua  21.6   0.0  0.469  6.421   7.07 -4.647580  0.950714  \n",
       "2  Casi nueva  33.4   0.0  0.458  6.998   2.18 -5.779273  0.731994  \n",
       "3  Casi nueva  36.2   0.0  0.458  7.147   2.18 -6.016644  0.598658  \n",
       "4  Casi nueva  22.9  12.5  0.524  6.012   7.87 -4.785394  0.156019  "
      ]
     },
     "execution_count": 10,
     "metadata": {},
     "output_type": "execute_result"
    }
   ],
   "source": [
    "dfcop = df.copy()\n",
    "dfcop.head()"
   ]
  },
  {
   "cell_type": "code",
   "execution_count": 11,
   "id": "4084e3ca-c48d-4d2d-b996-944d98b23917",
   "metadata": {},
   "outputs": [
    {
     "name": "stdout",
     "output_type": "stream",
     "text": [
      "🏷️ Columnas categóricas:\n",
      "Index(['cat_dis', 'cat_age'], dtype='object')\n"
     ]
    }
   ],
   "source": [
    "print(\"🏷️ Columnas categóricas:\")\n",
    "print(df.select_dtypes(include=['object', 'category']).columns)"
   ]
  },
  {
   "cell_type": "code",
   "execution_count": 12,
   "id": "bbb1c11b-c98a-4580-990d-f7894c05c0bd",
   "metadata": {},
   "outputs": [
    {
     "data": {
      "application/vnd.microsoft.datawrangler.viewer.v0+json": {
       "columns": [
        {
         "name": "index",
         "rawType": "int64",
         "type": "integer"
        },
        {
         "name": "lstat",
         "rawType": "float64",
         "type": "float"
        },
        {
         "name": "rad",
         "rawType": "int64",
         "type": "integer"
        },
        {
         "name": "ptratio",
         "rawType": "float64",
         "type": "float"
        },
        {
         "name": "black",
         "rawType": "float64",
         "type": "float"
        },
        {
         "name": "tax",
         "rawType": "int64",
         "type": "integer"
        },
        {
         "name": "cat_dis",
         "rawType": "object",
         "type": "string"
        },
        {
         "name": "crim",
         "rawType": "float64",
         "type": "float"
        },
        {
         "name": "cat_age",
         "rawType": "object",
         "type": "string"
        },
        {
         "name": "medv",
         "rawType": "float64",
         "type": "float"
        },
        {
         "name": "zn",
         "rawType": "float64",
         "type": "float"
        },
        {
         "name": "nox",
         "rawType": "float64",
         "type": "float"
        },
        {
         "name": "rm",
         "rawType": "float64",
         "type": "float"
        },
        {
         "name": "indus",
         "rawType": "float64",
         "type": "float"
        },
        {
         "name": "palux",
         "rawType": "float64",
         "type": "float"
        },
        {
         "name": "garb",
         "rawType": "float64",
         "type": "float"
        }
       ],
       "ref": "6ddcd18c-9364-4fc7-857d-432c0304f78f",
       "rows": [
        [
         "0",
         "4.98",
         "1",
         "15.3",
         "396.9",
         "296",
         "Lejos",
         "0.00632",
         "Casi nueva",
         "24.0",
         "18.0",
         "0.538",
         "6.575",
         "2.31",
         "-4.898979485566356",
         "0.3745401188473625"
        ],
        [
         "1",
         "9.14",
         "2",
         "17.8",
         "396.9",
         "242",
         "Lejos",
         "0.02731",
         "Antigua",
         "21.6",
         "0.0",
         "0.469",
         "6.421",
         "7.07",
         "-4.6475800154489",
         "0.9507143064099162"
        ],
        [
         "2",
         "2.94",
         "3",
         "18.7",
         "394.63",
         "222",
         "Muy lejos",
         "0.03237",
         "Casi nueva",
         "33.4",
         "0.0",
         "0.458",
         "6.998",
         "2.18",
         "-5.779273310719955",
         "0.7319939418114051"
        ],
        [
         "3",
         "5.33",
         "3",
         "18.7",
         "396.9",
         "222",
         "Muy lejos",
         "0.06905",
         "Casi nueva",
         "36.2",
         "0.0",
         "0.458",
         "7.147",
         "2.18",
         "-6.016643582596529",
         "0.5986584841970366"
        ],
        [
         "4",
         "12.43",
         "5",
         "15.2",
         "395.6",
         "311",
         "Muy lejos",
         "0.08829",
         "Casi nueva",
         "22.9",
         "12.5",
         "0.524",
         "6.012",
         "7.87",
         "-4.78539444560216",
         "0.1560186404424365"
        ]
       ],
       "shape": {
        "columns": 15,
        "rows": 5
       }
      },
      "text/html": [
       "<div>\n",
       "<style scoped>\n",
       "    .dataframe tbody tr th:only-of-type {\n",
       "        vertical-align: middle;\n",
       "    }\n",
       "\n",
       "    .dataframe tbody tr th {\n",
       "        vertical-align: top;\n",
       "    }\n",
       "\n",
       "    .dataframe thead th {\n",
       "        text-align: right;\n",
       "    }\n",
       "</style>\n",
       "<table border=\"1\" class=\"dataframe\">\n",
       "  <thead>\n",
       "    <tr style=\"text-align: right;\">\n",
       "      <th></th>\n",
       "      <th>lstat</th>\n",
       "      <th>rad</th>\n",
       "      <th>ptratio</th>\n",
       "      <th>black</th>\n",
       "      <th>tax</th>\n",
       "      <th>cat_dis</th>\n",
       "      <th>crim</th>\n",
       "      <th>cat_age</th>\n",
       "      <th>medv</th>\n",
       "      <th>zn</th>\n",
       "      <th>nox</th>\n",
       "      <th>rm</th>\n",
       "      <th>indus</th>\n",
       "      <th>palux</th>\n",
       "      <th>garb</th>\n",
       "    </tr>\n",
       "  </thead>\n",
       "  <tbody>\n",
       "    <tr>\n",
       "      <th>0</th>\n",
       "      <td>4.98</td>\n",
       "      <td>1</td>\n",
       "      <td>15.3</td>\n",
       "      <td>396.90</td>\n",
       "      <td>296</td>\n",
       "      <td>Lejos</td>\n",
       "      <td>0.00632</td>\n",
       "      <td>Casi nueva</td>\n",
       "      <td>24.0</td>\n",
       "      <td>18.0</td>\n",
       "      <td>0.538</td>\n",
       "      <td>6.575</td>\n",
       "      <td>2.31</td>\n",
       "      <td>-4.898979</td>\n",
       "      <td>0.374540</td>\n",
       "    </tr>\n",
       "    <tr>\n",
       "      <th>1</th>\n",
       "      <td>9.14</td>\n",
       "      <td>2</td>\n",
       "      <td>17.8</td>\n",
       "      <td>396.90</td>\n",
       "      <td>242</td>\n",
       "      <td>Lejos</td>\n",
       "      <td>0.02731</td>\n",
       "      <td>Antigua</td>\n",
       "      <td>21.6</td>\n",
       "      <td>0.0</td>\n",
       "      <td>0.469</td>\n",
       "      <td>6.421</td>\n",
       "      <td>7.07</td>\n",
       "      <td>-4.647580</td>\n",
       "      <td>0.950714</td>\n",
       "    </tr>\n",
       "    <tr>\n",
       "      <th>2</th>\n",
       "      <td>2.94</td>\n",
       "      <td>3</td>\n",
       "      <td>18.7</td>\n",
       "      <td>394.63</td>\n",
       "      <td>222</td>\n",
       "      <td>Muy lejos</td>\n",
       "      <td>0.03237</td>\n",
       "      <td>Casi nueva</td>\n",
       "      <td>33.4</td>\n",
       "      <td>0.0</td>\n",
       "      <td>0.458</td>\n",
       "      <td>6.998</td>\n",
       "      <td>2.18</td>\n",
       "      <td>-5.779273</td>\n",
       "      <td>0.731994</td>\n",
       "    </tr>\n",
       "    <tr>\n",
       "      <th>3</th>\n",
       "      <td>5.33</td>\n",
       "      <td>3</td>\n",
       "      <td>18.7</td>\n",
       "      <td>396.90</td>\n",
       "      <td>222</td>\n",
       "      <td>Muy lejos</td>\n",
       "      <td>0.06905</td>\n",
       "      <td>Casi nueva</td>\n",
       "      <td>36.2</td>\n",
       "      <td>0.0</td>\n",
       "      <td>0.458</td>\n",
       "      <td>7.147</td>\n",
       "      <td>2.18</td>\n",
       "      <td>-6.016644</td>\n",
       "      <td>0.598658</td>\n",
       "    </tr>\n",
       "    <tr>\n",
       "      <th>4</th>\n",
       "      <td>12.43</td>\n",
       "      <td>5</td>\n",
       "      <td>15.2</td>\n",
       "      <td>395.60</td>\n",
       "      <td>311</td>\n",
       "      <td>Muy lejos</td>\n",
       "      <td>0.08829</td>\n",
       "      <td>Casi nueva</td>\n",
       "      <td>22.9</td>\n",
       "      <td>12.5</td>\n",
       "      <td>0.524</td>\n",
       "      <td>6.012</td>\n",
       "      <td>7.87</td>\n",
       "      <td>-4.785394</td>\n",
       "      <td>0.156019</td>\n",
       "    </tr>\n",
       "  </tbody>\n",
       "</table>\n",
       "</div>"
      ],
      "text/plain": [
       "   lstat  rad  ptratio   black  tax    cat_dis     crim     cat_age  medv  \\\n",
       "0   4.98    1     15.3  396.90  296      Lejos  0.00632  Casi nueva  24.0   \n",
       "1   9.14    2     17.8  396.90  242      Lejos  0.02731     Antigua  21.6   \n",
       "2   2.94    3     18.7  394.63  222  Muy lejos  0.03237  Casi nueva  33.4   \n",
       "3   5.33    3     18.7  396.90  222  Muy lejos  0.06905  Casi nueva  36.2   \n",
       "4  12.43    5     15.2  395.60  311  Muy lejos  0.08829  Casi nueva  22.9   \n",
       "\n",
       "     zn    nox     rm  indus     palux      garb  \n",
       "0  18.0  0.538  6.575   2.31 -4.898979  0.374540  \n",
       "1   0.0  0.469  6.421   7.07 -4.647580  0.950714  \n",
       "2   0.0  0.458  6.998   2.18 -5.779273  0.731994  \n",
       "3   0.0  0.458  7.147   2.18 -6.016644  0.598658  \n",
       "4  12.5  0.524  6.012   7.87 -4.785394  0.156019  "
      ]
     },
     "execution_count": 12,
     "metadata": {},
     "output_type": "execute_result"
    }
   ],
   "source": [
    "dfcop = dfcop.drop('ID', axis=1)\n",
    "dfcop = dfcop.drop('chas', axis=1)\n",
    "dfcop = dfcop.drop('pool', axis=1)\n",
    "dfcop.head()"
   ]
  },
  {
   "cell_type": "code",
   "execution_count": 13,
   "id": "32753998-4919-462e-8736-8ee9f98e2a67",
   "metadata": {},
   "outputs": [
    {
     "data": {
      "application/vnd.microsoft.datawrangler.viewer.v0+json": {
       "columns": [
        {
         "name": "index",
         "rawType": "object",
         "type": "string"
        },
        {
         "name": "0",
         "rawType": "int64",
         "type": "integer"
        }
       ],
       "ref": "f42b06b5-7e0c-4aae-a5c7-8239feb410eb",
       "rows": [
        [
         "lstat",
         "0"
        ],
        [
         "rad",
         "0"
        ],
        [
         "ptratio",
         "0"
        ],
        [
         "black",
         "0"
        ],
        [
         "tax",
         "0"
        ],
        [
         "cat_dis",
         "39"
        ],
        [
         "crim",
         "26"
        ],
        [
         "cat_age",
         "0"
        ],
        [
         "medv",
         "0"
        ],
        [
         "zn",
         "0"
        ],
        [
         "nox",
         "0"
        ],
        [
         "rm",
         "0"
        ],
        [
         "indus",
         "13"
        ],
        [
         "palux",
         "0"
        ],
        [
         "garb",
         "0"
        ]
       ],
       "shape": {
        "columns": 1,
        "rows": 15
       }
      },
      "text/plain": [
       "lstat       0\n",
       "rad         0\n",
       "ptratio     0\n",
       "black       0\n",
       "tax         0\n",
       "cat_dis    39\n",
       "crim       26\n",
       "cat_age     0\n",
       "medv        0\n",
       "zn          0\n",
       "nox         0\n",
       "rm          0\n",
       "indus      13\n",
       "palux       0\n",
       "garb        0\n",
       "dtype: int64"
      ]
     },
     "execution_count": 13,
     "metadata": {},
     "output_type": "execute_result"
    }
   ],
   "source": [
    "dfcop.isnull().sum()"
   ]
  },
  {
   "cell_type": "code",
   "execution_count": 14,
   "id": "e9ed781b-8988-456b-b0fb-652bb165664d",
   "metadata": {
    "scrolled": true
   },
   "outputs": [
    {
     "data": {
      "application/vnd.microsoft.datawrangler.viewer.v0+json": {
       "columns": [
        {
         "name": "cat_dis",
         "rawType": "object",
         "type": "string"
        },
        {
         "name": "count",
         "rawType": "int64",
         "type": "integer"
        }
       ],
       "ref": "be420ad6-a385-4caf-9e74-5758fb7501c4",
       "rows": [
        [
         "Muy cerca",
         "79"
        ],
        [
         "Cerca",
         "75"
        ],
        [
         "Muy lejos",
         "72"
        ],
        [
         "Lejos",
         "68"
        ]
       ],
       "shape": {
        "columns": 1,
        "rows": 4
       }
      },
      "text/plain": [
       "cat_dis\n",
       "Muy cerca    79\n",
       "Cerca        75\n",
       "Muy lejos    72\n",
       "Lejos        68\n",
       "Name: count, dtype: int64"
      ]
     },
     "execution_count": 14,
     "metadata": {},
     "output_type": "execute_result"
    }
   ],
   "source": [
    "dfcop['cat_dis'].value_counts()"
   ]
  },
  {
   "cell_type": "code",
   "execution_count": 15,
   "id": "334dd2cc-3126-48e0-830e-e3d44a927c16",
   "metadata": {},
   "outputs": [
    {
     "name": "stderr",
     "output_type": "stream",
     "text": [
      "C:\\Users\\skril\\AppData\\Local\\Temp\\ipykernel_2308\\1644054312.py:4: FutureWarning: A value is trying to be set on a copy of a DataFrame or Series through chained assignment using an inplace method.\n",
      "The behavior will change in pandas 3.0. This inplace method will never work because the intermediate object on which we are setting values always behaves as a copy.\n",
      "\n",
      "For example, when doing 'df[col].method(value, inplace=True)', try using 'df.method({col: value}, inplace=True)' or df[col] = df[col].method(value) instead, to perform the operation inplace on the original object.\n",
      "\n",
      "\n",
      "  dfcop['cat_dis'].fillna(moda, inplace=True)\n"
     ]
    }
   ],
   "source": [
    "moda = dfcop['cat_dis'].mode()[0]  \n",
    "# Calcula el valor más frecuente en la columna 'cat_dis' y lo guarda en la variable 'moda'.\n",
    "\n",
    "dfcop['cat_dis'].fillna(moda, inplace=True)  \n",
    "# Rellena todos los valores nulos de 'cat_dis' con la moda encontrada, modificando el DataFrame directamente."
   ]
  },
  {
   "cell_type": "code",
   "execution_count": 16,
   "id": "8e4b5fc5-1acf-4cf1-8412-6c27cd9a9a79",
   "metadata": {},
   "outputs": [
    {
     "data": {
      "application/vnd.microsoft.datawrangler.viewer.v0+json": {
       "columns": [
        {
         "name": "index",
         "rawType": "object",
         "type": "string"
        },
        {
         "name": "0",
         "rawType": "int64",
         "type": "integer"
        }
       ],
       "ref": "af5d4406-213e-4ddb-b3a5-553da4b610ff",
       "rows": [
        [
         "lstat",
         "0"
        ],
        [
         "rad",
         "0"
        ],
        [
         "ptratio",
         "0"
        ],
        [
         "black",
         "0"
        ],
        [
         "tax",
         "0"
        ],
        [
         "cat_dis",
         "0"
        ],
        [
         "crim",
         "26"
        ],
        [
         "cat_age",
         "0"
        ],
        [
         "medv",
         "0"
        ],
        [
         "zn",
         "0"
        ],
        [
         "nox",
         "0"
        ],
        [
         "rm",
         "0"
        ],
        [
         "indus",
         "13"
        ],
        [
         "palux",
         "0"
        ],
        [
         "garb",
         "0"
        ]
       ],
       "shape": {
        "columns": 1,
        "rows": 15
       }
      },
      "text/plain": [
       "lstat       0\n",
       "rad         0\n",
       "ptratio     0\n",
       "black       0\n",
       "tax         0\n",
       "cat_dis     0\n",
       "crim       26\n",
       "cat_age     0\n",
       "medv        0\n",
       "zn          0\n",
       "nox         0\n",
       "rm          0\n",
       "indus      13\n",
       "palux       0\n",
       "garb        0\n",
       "dtype: int64"
      ]
     },
     "execution_count": 16,
     "metadata": {},
     "output_type": "execute_result"
    }
   ],
   "source": [
    "dfcop.isnull().sum()"
   ]
  },
  {
   "cell_type": "code",
   "execution_count": 17,
   "id": "4c3550c7-8fb9-46dc-91e1-c285a23e6a43",
   "metadata": {},
   "outputs": [
    {
     "name": "stderr",
     "output_type": "stream",
     "text": [
      "C:\\Users\\skril\\AppData\\Local\\Temp\\ipykernel_2308\\1218390488.py:2: FutureWarning: A value is trying to be set on a copy of a DataFrame or Series through chained assignment using an inplace method.\n",
      "The behavior will change in pandas 3.0. This inplace method will never work because the intermediate object on which we are setting values always behaves as a copy.\n",
      "\n",
      "For example, when doing 'df[col].method(value, inplace=True)', try using 'df.method({col: value}, inplace=True)' or df[col] = df[col].method(value) instead, to perform the operation inplace on the original object.\n",
      "\n",
      "\n",
      "  dfcop['crim'].fillna(dfcop['crim'].mean(), inplace=True)\n",
      "C:\\Users\\skril\\AppData\\Local\\Temp\\ipykernel_2308\\1218390488.py:3: FutureWarning: A value is trying to be set on a copy of a DataFrame or Series through chained assignment using an inplace method.\n",
      "The behavior will change in pandas 3.0. This inplace method will never work because the intermediate object on which we are setting values always behaves as a copy.\n",
      "\n",
      "For example, when doing 'df[col].method(value, inplace=True)', try using 'df.method({col: value}, inplace=True)' or df[col] = df[col].method(value) instead, to perform the operation inplace on the original object.\n",
      "\n",
      "\n",
      "  dfcop['indus'].fillna(dfcop['indus'].mean(), inplace=True)\n"
     ]
    },
    {
     "data": {
      "application/vnd.microsoft.datawrangler.viewer.v0+json": {
       "columns": [
        {
         "name": "index",
         "rawType": "object",
         "type": "string"
        },
        {
         "name": "0",
         "rawType": "int64",
         "type": "integer"
        }
       ],
       "ref": "6edeea82-314e-40db-b802-614b2a3bb775",
       "rows": [
        [
         "lstat",
         "0"
        ],
        [
         "rad",
         "0"
        ],
        [
         "ptratio",
         "0"
        ],
        [
         "black",
         "0"
        ],
        [
         "tax",
         "0"
        ],
        [
         "cat_dis",
         "0"
        ],
        [
         "crim",
         "0"
        ],
        [
         "cat_age",
         "0"
        ],
        [
         "medv",
         "0"
        ],
        [
         "zn",
         "0"
        ],
        [
         "nox",
         "0"
        ],
        [
         "rm",
         "0"
        ],
        [
         "indus",
         "0"
        ],
        [
         "palux",
         "0"
        ],
        [
         "garb",
         "0"
        ]
       ],
       "shape": {
        "columns": 1,
        "rows": 15
       }
      },
      "text/plain": [
       "lstat      0\n",
       "rad        0\n",
       "ptratio    0\n",
       "black      0\n",
       "tax        0\n",
       "cat_dis    0\n",
       "crim       0\n",
       "cat_age    0\n",
       "medv       0\n",
       "zn         0\n",
       "nox        0\n",
       "rm         0\n",
       "indus      0\n",
       "palux      0\n",
       "garb       0\n",
       "dtype: int64"
      ]
     },
     "execution_count": 17,
     "metadata": {},
     "output_type": "execute_result"
    }
   ],
   "source": [
    "# Rellenar valores nulos en columnas numéricas con la media\n",
    "dfcop['crim'].fillna(dfcop['crim'].mean(), inplace=True)\n",
    "dfcop['indus'].fillna(dfcop['indus'].mean(), inplace=True)\n",
    "\n",
    "dfcop.isnull().sum()"
   ]
  },
  {
   "cell_type": "code",
   "execution_count": 18,
   "id": "b735bac7-f694-4d7e-8a07-5a770856b945",
   "metadata": {},
   "outputs": [
    {
     "name": "stdout",
     "output_type": "stream",
     "text": [
      "cat_dis: ['Lejos' 'Muy lejos' 'Muy cerca' 'Cerca']\n",
      "cat_age: ['Casi nueva' 'Antigua' 'Muy antigua' 'Nueva']\n"
     ]
    }
   ],
   "source": [
    "print(\"cat_dis:\",dfcop['cat_dis'].unique())\n",
    "print(\"cat_age:\",dfcop['cat_age'].unique())"
   ]
  },
  {
   "cell_type": "code",
   "execution_count": 19,
   "id": "ebe53789-26a2-4d52-956a-532c297793e4",
   "metadata": {},
   "outputs": [],
   "source": [
    "map_cat_dis = {\n",
    "    'Muy lejos': 0,\n",
    "    'Lejos': 1,\n",
    "    'Cerca': 2,\n",
    "    'Muy cerca': 3\n",
    "}\n",
    "\n",
    "dfcop['cat_dis'] = dfcop['cat_dis'].map(map_cat_dis)"
   ]
  },
  {
   "cell_type": "code",
   "execution_count": 20,
   "id": "4a10e863-32cb-471e-8e0f-f9b347130b7d",
   "metadata": {},
   "outputs": [],
   "source": [
    "map_cat_age = {\n",
    "    'Muy antigua': 0,\n",
    "    'Antigua': 1,\n",
    "    'Casi nueva': 2,\n",
    "    'Nueva': 3\n",
    "}\n",
    "\n",
    "dfcop['cat_age'] = dfcop['cat_age'].map(map_cat_age)"
   ]
  },
  {
   "cell_type": "code",
   "execution_count": 21,
   "id": "293f262c-1228-41e5-8754-0597f9360f3f",
   "metadata": {},
   "outputs": [
    {
     "data": {
      "application/vnd.microsoft.datawrangler.viewer.v0+json": {
       "columns": [
        {
         "name": "index",
         "rawType": "int64",
         "type": "integer"
        },
        {
         "name": "cat_dis",
         "rawType": "int64",
         "type": "integer"
        },
        {
         "name": "cat_age",
         "rawType": "int64",
         "type": "integer"
        }
       ],
       "ref": "7d2d3b53-bb50-4bb3-a891-55a73af897bb",
       "rows": [
        [
         "0",
         "1",
         "2"
        ],
        [
         "1",
         "1",
         "1"
        ],
        [
         "2",
         "0",
         "2"
        ],
        [
         "3",
         "0",
         "2"
        ],
        [
         "4",
         "0",
         "2"
        ]
       ],
       "shape": {
        "columns": 2,
        "rows": 5
       }
      },
      "text/html": [
       "<div>\n",
       "<style scoped>\n",
       "    .dataframe tbody tr th:only-of-type {\n",
       "        vertical-align: middle;\n",
       "    }\n",
       "\n",
       "    .dataframe tbody tr th {\n",
       "        vertical-align: top;\n",
       "    }\n",
       "\n",
       "    .dataframe thead th {\n",
       "        text-align: right;\n",
       "    }\n",
       "</style>\n",
       "<table border=\"1\" class=\"dataframe\">\n",
       "  <thead>\n",
       "    <tr style=\"text-align: right;\">\n",
       "      <th></th>\n",
       "      <th>cat_dis</th>\n",
       "      <th>cat_age</th>\n",
       "    </tr>\n",
       "  </thead>\n",
       "  <tbody>\n",
       "    <tr>\n",
       "      <th>0</th>\n",
       "      <td>1</td>\n",
       "      <td>2</td>\n",
       "    </tr>\n",
       "    <tr>\n",
       "      <th>1</th>\n",
       "      <td>1</td>\n",
       "      <td>1</td>\n",
       "    </tr>\n",
       "    <tr>\n",
       "      <th>2</th>\n",
       "      <td>0</td>\n",
       "      <td>2</td>\n",
       "    </tr>\n",
       "    <tr>\n",
       "      <th>3</th>\n",
       "      <td>0</td>\n",
       "      <td>2</td>\n",
       "    </tr>\n",
       "    <tr>\n",
       "      <th>4</th>\n",
       "      <td>0</td>\n",
       "      <td>2</td>\n",
       "    </tr>\n",
       "  </tbody>\n",
       "</table>\n",
       "</div>"
      ],
      "text/plain": [
       "   cat_dis  cat_age\n",
       "0        1        2\n",
       "1        1        1\n",
       "2        0        2\n",
       "3        0        2\n",
       "4        0        2"
      ]
     },
     "execution_count": 21,
     "metadata": {},
     "output_type": "execute_result"
    }
   ],
   "source": [
    "dfcop[['cat_dis', 'cat_age']].head()"
   ]
  },
  {
   "cell_type": "code",
   "execution_count": 22,
   "id": "91d81825",
   "metadata": {},
   "outputs": [
    {
     "name": "stdout",
     "output_type": "stream",
     "text": [
      "  cat_dis_original  cat_dis_numerica cat_age_original  cat_age_numerica\n",
      "0            Lejos                 1       Casi nueva                 2\n",
      "1            Lejos                 1          Antigua                 1\n",
      "2        Muy lejos                 0       Casi nueva                 2\n",
      "3        Muy lejos                 0       Casi nueva                 2\n",
      "4        Muy lejos                 0       Casi nueva                 2\n",
      "5        Muy lejos                 0      Muy antigua                 0\n",
      "6        Muy lejos                 0          Antigua                 1\n",
      "7        Muy lejos                 0            Nueva                 3\n",
      "8            Lejos                 1       Casi nueva                 2\n",
      "9            Lejos                 1          Antigua                 1\n"
     ]
    }
   ],
   "source": [
    "# Muestra las versiones original y transformada, lado a lado\n",
    "comparacion = pd.DataFrame({\n",
    "    'cat_dis_original': df['cat_dis'],\n",
    "    'cat_dis_numerica': dfcop['cat_dis'],\n",
    "    'cat_age_original': df['cat_age'],\n",
    "    'cat_age_numerica': dfcop['cat_age']\n",
    "})\n",
    "\n",
    "print(comparacion.head(10))\n"
   ]
  },
  {
   "cell_type": "code",
   "execution_count": 23,
   "id": "31bdd586-db5b-4d3d-a8f6-53e34e60d212",
   "metadata": {},
   "outputs": [
    {
     "name": "stdout",
     "output_type": "stream",
     "text": [
      "X shape: (333, 14)\n",
      "y shape: (333,)\n"
     ]
    }
   ],
   "source": [
    "X = dfcop.drop('medv', axis=1)\n",
    "y = dfcop['medv']\n",
    "print(\"X shape:\", X.shape)\n",
    "print(\"y shape:\", y.shape)"
   ]
  },
  {
   "cell_type": "code",
   "execution_count": 24,
   "id": "8743237c-2710-492f-9fbe-0c138f1927aa",
   "metadata": {},
   "outputs": [
    {
     "name": "stdout",
     "output_type": "stream",
     "text": [
      "📦 Columnas de X (Variables independientes):\n",
      "['lstat', 'rad', 'ptratio', 'black', 'tax', 'cat_dis', 'crim', 'cat_age', 'zn', 'nox', 'rm', 'indus', 'palux', 'garb']\n",
      "📦 Columnas de y (Variables independientes):\n",
      "medv\n"
     ]
    }
   ],
   "source": [
    "print(\"📦 Columnas de X (Variables independientes):\")\n",
    "print(X.columns.tolist())\n",
    "print(\"📦 Columnas de y (Variables independientes):\")\n",
    "print(y.name)"
   ]
  },
  {
   "cell_type": "code",
   "execution_count": 25,
   "id": "a0b11cce-0898-4b70-8933-009bf999914c",
   "metadata": {},
   "outputs": [
    {
     "name": "stdout",
     "output_type": "stream",
     "text": [
      "    Feature  Ranking  Selected\n",
      "0     lstat        1      True\n",
      "7   cat_age        1      True\n",
      "6      crim        1      True\n",
      "10       rm        1      True\n",
      "12    palux        1      True\n",
      "13     garb        1      True\n",
      "5   cat_dis        2     False\n",
      "2   ptratio        3     False\n",
      "8        zn        4     False\n",
      "9       nox        5     False\n",
      "3     black        6     False\n",
      "11    indus        7     False\n",
      "1       rad        8     False\n",
      "4       tax        9     False\n",
      "\n",
      "Importancia Árbol de Decisión:\n",
      "     Feature    Importance\n",
      "12    palux  9.997028e-01\n",
      "10       rm  7.525421e-05\n",
      "3     black  6.442521e-05\n",
      "9       nox  3.016390e-05\n",
      "13     garb  2.700647e-05\n",
      "2   ptratio  2.644912e-05\n",
      "5   cat_dis  2.519212e-05\n",
      "6      crim  1.904855e-05\n",
      "0     lstat  1.139998e-05\n",
      "1       rad  7.438922e-06\n",
      "11    indus  4.820088e-06\n",
      "4       tax  4.265300e-06\n",
      "7   cat_age  1.163264e-06\n",
      "8        zn  5.368909e-07\n"
     ]
    }
   ],
   "source": [
    "from sklearn.feature_selection import RFE\n",
    "from sklearn.linear_model import LinearRegression\n",
    "from sklearn.tree import DecisionTreeRegressor\n",
    "# RFE con regresión lineal\n",
    "model = LinearRegression()\n",
    "rfe = RFE(model, n_features_to_select=6)\n",
    "rfe_fit = rfe.fit(X, y)\n",
    "\n",
    "# Resultados RFE\n",
    "rfe_result = pd.DataFrame({\n",
    "    'Feature': X.columns,\n",
    "    'Ranking': rfe.ranking_,\n",
    "    'Selected': rfe.support_\n",
    "})\n",
    "\n",
    "# Árbol de decisión \n",
    "tree = DecisionTreeRegressor()\n",
    "tree.fit(X, y)\n",
    "tree_importance = pd.DataFrame({\n",
    "    'Feature': X.columns,\n",
    "    'Importance': tree.feature_importances_\n",
    "})\n",
    "\n",
    "print(rfe_result.sort_values('Ranking'))\n",
    "print(\"\\nImportancia Árbol de Decisión:\\n\", tree_importance.sort_values(by='Importance', ascending=False))"
   ]
  },
  {
   "cell_type": "code",
   "execution_count": 26,
   "id": "d1c2b8fc-33b2-4a8e-aaa9-a32d49815385",
   "metadata": {},
   "outputs": [],
   "source": [
    "from sklearn.model_selection import train_test_split\n",
    "# Dividir el conjunto de datos en entrenamiento y prueba\n",
    "selected_features = ['lstat', 'cat_age', 'crim', 'rm', 'palux', 'garb']\n",
    "X_train, X_test, y_train, y_test = train_test_split(X[selected_features], y, test_size=0.2, random_state=42)"
   ]
  },
  {
   "cell_type": "code",
   "execution_count": 27,
   "id": "8a22a5a4",
   "metadata": {},
   "outputs": [
    {
     "name": "stdout",
     "output_type": "stream",
     "text": [
      "R2 score: 0.9989875269138027\n",
      "MAE: 0.13300000000000328\n"
     ]
    }
   ],
   "source": [
    "from sklearn.ensemble import RandomForestRegressor\n",
    "from sklearn.metrics import r2_score, mean_absolute_error\n",
    "\n",
    "# 1. Instanciar el modelo\n",
    "rf = RandomForestRegressor(random_state=42)\n",
    "\n",
    "# 2. Entrenar el modelo\n",
    "rf.fit(X_train, y_train)\n",
    "\n",
    "# 3. Predecir sobre el conjunto de prueba\n",
    "y_pred = rf.predict(X_test)\n",
    "\n",
    "# 4. Evaluar el modelo\n",
    "print(\"R2 score:\", r2_score(y_test, y_pred))\n",
    "print(\"MAE:\", mean_absolute_error(y_test, y_pred))"
   ]
  },
  {
   "cell_type": "code",
   "execution_count": 28,
   "id": "f35b5c5a",
   "metadata": {},
   "outputs": [
    {
     "name": "stdout",
     "output_type": "stream",
     "text": [
      "R2 cross-validation scores: [0.99912433 0.99945836 0.99740962 0.99733743 0.99955779]\n",
      "R2 mean: 0.9985775061997126\n"
     ]
    }
   ],
   "source": [
    "from sklearn.model_selection import cross_val_score\n",
    "# Evaluación con validación cruzada\n",
    "scores = cross_val_score(rf, X_train, y_train, cv=5, scoring='r2')\n",
    "print(\"R2 cross-validation scores:\", scores)\n",
    "print(\"R2 mean:\", scores.mean())\n"
   ]
  },
  {
   "cell_type": "code",
   "execution_count": 29,
   "id": "6b3e74a1",
   "metadata": {},
   "outputs": [
    {
     "name": "stdout",
     "output_type": "stream",
     "text": [
      "Red Neuronal (MLPRegressor) con escalado:\n",
      "R2 score: 0.9988961404591348\n",
      "MAE: 0.23909478178350144\n"
     ]
    }
   ],
   "source": [
    "from sklearn.preprocessing import StandardScaler\n",
    "from sklearn.neural_network import MLPRegressor\n",
    "from sklearn.metrics import r2_score, mean_absolute_error\n",
    "\n",
    "# 1. Escalar los datos\n",
    "scaler = StandardScaler()\n",
    "X_train_scaled = scaler.fit_transform(X_train)\n",
    "X_test_scaled = scaler.transform(X_test)\n",
    "\n",
    "# 2. Crear y entrenar la red neuronal con más iteraciones\n",
    "mlp = MLPRegressor(random_state=42, max_iter=3000)\n",
    "mlp.fit(X_train_scaled, y_train)\n",
    "\n",
    "# 3. Predecir y evaluar\n",
    "y_pred_mlp = mlp.predict(X_test_scaled)\n",
    "\n",
    "print(\"Red Neuronal (MLPRegressor) con escalado:\")\n",
    "print(\"R2 score:\", r2_score(y_test, y_pred_mlp))\n",
    "print(\"MAE:\", mean_absolute_error(y_test, y_pred_mlp))\n"
   ]
  },
  {
   "cell_type": "code",
   "execution_count": 30,
   "id": "f60c8b35",
   "metadata": {},
   "outputs": [
    {
     "name": "stdout",
     "output_type": "stream",
     "text": [
      "   Real  Predicción\n",
      "0  24.7   24.933050\n",
      "1  19.6   19.430607\n",
      "2  19.8   19.973066\n",
      "3  27.9   27.992542\n",
      "4  23.9   23.687150\n",
      "5  13.5   12.999342\n",
      "6  11.7   11.357181\n",
      "7  30.7   30.935150\n",
      "8  17.8   17.546430\n",
      "9  27.1   26.955899\n"
     ]
    }
   ],
   "source": [
    "import pandas as pd\n",
    "\n",
    "# Crear un DataFrame comparando predicción vs real\n",
    "results = pd.DataFrame({\n",
    "    'Real': y_test.values,\n",
    "    'Predicción': y_pred_mlp\n",
    "})\n",
    "\n",
    "print(results.head(10))  # Muestra las primeras 10 comparaciones\n"
   ]
  },
  {
   "cell_type": "code",
   "execution_count": 31,
   "id": "5c57427d",
   "metadata": {},
   "outputs": [
    {
     "name": "stdout",
     "output_type": "stream",
     "text": [
      "Predicción del modelo para el nuevo dato: 23.506580349514678\n"
     ]
    }
   ],
   "source": [
    "import pandas as pd\n",
    "\n",
    "# DataFrame con los features seleccionados y valores ya numéricos\n",
    "nuevo_dato = pd.DataFrame([{\n",
    "    'lstat': 4.98,\n",
    "    'cat_age': 2,    # 2 según tu mapping\n",
    "    'crim': 0.00632,\n",
    "    'rm': 6.575,\n",
    "    'palux': -4.898979485566356,\n",
    "    'garb': 0.3745401188473625\n",
    "}])\n",
    "\n",
    "# Escalar\n",
    "nuevo_dato_esc = scaler.transform(nuevo_dato)\n",
    "\n",
    "# Predecir\n",
    "prediccion = mlp.predict(nuevo_dato_esc)\n",
    "print(\"Predicción del modelo para el nuevo dato:\", prediccion[0])"
   ]
  },
  {
   "cell_type": "code",
   "execution_count": 32,
   "id": "93d9ec70",
   "metadata": {},
   "outputs": [
    {
     "data": {
      "text/plain": [
       "['scaler.pkl']"
      ]
     },
     "execution_count": 32,
     "metadata": {},
     "output_type": "execute_result"
    }
   ],
   "source": [
    "import joblib\n",
    "\n",
    "# Guardar el modelo\n",
    "joblib.dump(mlp, 'modelo_mlp.pkl')\n",
    "\n",
    "# Guardar el scaler\n",
    "joblib.dump(scaler, 'scaler.pkl')\n"
   ]
  }
 ],
 "metadata": {
  "kernelspec": {
   "display_name": "venv",
   "language": "python",
   "name": "python3"
  },
  "language_info": {
   "codemirror_mode": {
    "name": "ipython",
    "version": 3
   },
   "file_extension": ".py",
   "mimetype": "text/x-python",
   "name": "python",
   "nbconvert_exporter": "python",
   "pygments_lexer": "ipython3",
   "version": "3.13.5"
  }
 },
 "nbformat": 4,
 "nbformat_minor": 5
}
