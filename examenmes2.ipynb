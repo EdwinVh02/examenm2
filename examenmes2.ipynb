{
 "cells": [
  {
   "cell_type": "code",
   "execution_count": 1,
   "id": "0b9355d3-1cf4-472b-a4e8-1759d5f5cebe",
   "metadata": {},
   "outputs": [
    {
     "name": "stdout",
     "output_type": "stream",
     "text": [
      "<class 'pandas.core.frame.DataFrame'>\n",
      "RangeIndex: 891 entries, 0 to 890\n",
      "Data columns (total 10 columns):\n",
      " #   Column    Non-Null Count  Dtype  \n",
      "---  ------    --------------  -----  \n",
      " 0   sex       891 non-null    object \n",
      " 1   age       714 non-null    float64\n",
      " 2   sibsp     891 non-null    int64  \n",
      " 3   parch     891 non-null    int64  \n",
      " 4   fare      891 non-null    float64\n",
      " 5   embarked  889 non-null    object \n",
      " 6   class     891 non-null    object \n",
      " 7   who       891 non-null    object \n",
      " 8   alone     891 non-null    bool   \n",
      " 9   survived  891 non-null    int64  \n",
      "dtypes: bool(1), float64(2), int64(3), object(4)\n",
      "memory usage: 63.6+ KB\n"
     ]
    }
   ],
   "source": [
    "import pandas as pd\n",
    "import matplotlib.pyplot as plt\n",
    "from pandas.plotting import scatter_matrix\n",
    "\n",
    "# Carga tu Titanic local (o ajusta la ruta)\n",
    "df = pd.read_csv('Titanic.csv')\n",
    "\n",
    "df.info()"
   ]
  },
  {
   "cell_type": "code",
   "execution_count": null,
   "id": "f4839380-fd70-4404-8842-e42bd0277c47",
   "metadata": {},
   "outputs": [],
   "source": []
  }
 ],
 "metadata": {
  "kernelspec": {
   "display_name": "Python 3 (ipykernel)",
   "language": "python",
   "name": "python3"
  },
  "language_info": {
   "codemirror_mode": {
    "name": "ipython",
    "version": 3
   },
   "file_extension": ".py",
   "mimetype": "text/x-python",
   "name": "python",
   "nbconvert_exporter": "python",
   "pygments_lexer": "ipython3",
   "version": "3.13.5"
  }
 },
 "nbformat": 4,
 "nbformat_minor": 5
}
